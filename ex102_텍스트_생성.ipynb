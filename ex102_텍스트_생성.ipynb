{
  "nbformat": 4,
  "nbformat_minor": 0,
  "metadata": {
    "colab": {
      "provenance": [],
      "gpuType": "T4",
      "authorship_tag": "ABX9TyPykmI1u68k7TGWpM2DozLh",
      "include_colab_link": true
    },
    "kernelspec": {
      "name": "python3",
      "display_name": "Python 3"
    },
    "language_info": {
      "name": "python"
    },
    "accelerator": "GPU"
  },
  "cells": [
    {
      "cell_type": "markdown",
      "metadata": {
        "id": "view-in-github",
        "colab_type": "text"
      },
      "source": [
        "<a href=\"https://colab.research.google.com/github/DeseoDeSEo/colab/blob/main/ex102_%ED%85%8D%EC%8A%A4%ED%8A%B8_%EC%83%9D%EC%84%B1.ipynb\" target=\"_parent\"><img src=\"https://colab.research.google.com/assets/colab-badge.svg\" alt=\"Open In Colab\"/></a>"
      ]
    },
    {
      "cell_type": "code",
      "execution_count": null,
      "metadata": {
        "id": "i7uvS0-fejX8"
      },
      "outputs": [],
      "source": [
        "# input = 가는\n",
        "# output = 말이 고와야 오는 말이 곱다.\n",
        "# 첫 마디 입력시 뒤에 나올 말 생성\n"
      ]
    },
    {
      "cell_type": "code",
      "source": [
        "text=\"\"\"경마장에 있는 말이 뛰고 있다\\n\n",
        "그의 말이 법이다\\n\n",
        "가는 말이 고와야 오는 말이 곱다\"\"\"\n",
        "# 바로 전의 말만 확인하고 텍스트를 생성하는 게 아니라 전에 나왔던 모든 말을 확인하고\n",
        "# 텍스트를 생성하기 때문에 '말이' 다음에 나오는 다양한 말들을 생성 가능\n"
      ],
      "metadata": {
        "id": "7vgLOlw9enCh"
      },
      "execution_count": null,
      "outputs": []
    },
    {
      "cell_type": "code",
      "source": [
        "# 띄어쓰기를 기준으로 단어 분리\n",
        "from tensorflow.keras.preprocessing.text import Tokenizer\n",
        "\n",
        "t = Tokenizer()\n",
        "t.fit_on_texts([text])\n",
        "\n",
        "print(t.word_index)"
      ],
      "metadata": {
        "colab": {
          "base_uri": "https://localhost:8080/"
        },
        "id": "c3Ul6dWOem_6",
        "outputId": "290f059f-a772-4aa8-8749-315619262726"
      },
      "execution_count": null,
      "outputs": [
        {
          "output_type": "stream",
          "name": "stdout",
          "text": [
            "{'말이': 1, '경마장에': 2, '있는': 3, '뛰고': 4, '있다': 5, '그의': 6, '법이다': 7, '가는': 8, '고와야': 9, '오는': 10, '곱다': 11}\n"
          ]
        }
      ]
    },
    {
      "cell_type": "code",
      "source": [
        "# 훈련 데이터 생성\n",
        "sequences = []\n",
        "for line in text.split('\\n'):\n",
        "  # 단어를 정수로 변경\n",
        "  encoded = t.texts_to_sequences([line])[0]\n",
        "\n",
        "  # 2개 이상의 조합 생성\n",
        "  for i in range(1,len(encoded)):\n",
        "    sequence = encoded[:i+1]\n",
        "    sequences.append(sequence)"
      ],
      "metadata": {
        "id": "kFyqjJ1oem9S"
      },
      "execution_count": null,
      "outputs": []
    },
    {
      "cell_type": "code",
      "source": [
        "sequences"
      ],
      "metadata": {
        "colab": {
          "base_uri": "https://localhost:8080/"
        },
        "id": "ry6tnG1Tem35",
        "outputId": "55247883-143a-46ef-ddbf-6f859de24ae5"
      },
      "execution_count": null,
      "outputs": [
        {
          "output_type": "execute_result",
          "data": {
            "text/plain": [
              "[[2, 3],\n",
              " [2, 3, 1],\n",
              " [2, 3, 1, 4],\n",
              " [2, 3, 1, 4, 5],\n",
              " [6, 1],\n",
              " [6, 1, 7],\n",
              " [8, 1],\n",
              " [8, 1, 9],\n",
              " [8, 1, 9, 10],\n",
              " [8, 1, 9, 10, 1],\n",
              " [8, 1, 9, 10, 1, 11]]"
            ]
          },
          "metadata": {},
          "execution_count": 5
        }
      ]
    },
    {
      "cell_type": "code",
      "source": [
        "from tensorflow.keras.preprocessing.sequence import pad_sequences\n",
        "\n",
        "max_len = 6\n",
        "\n",
        "sequences = pad_sequences(sequences, maxlen = max_len)\n",
        "sequences"
      ],
      "metadata": {
        "colab": {
          "base_uri": "https://localhost:8080/"
        },
        "id": "zyBcdjcgem1h",
        "outputId": "58729402-60f5-4ce1-cdab-29e78dcdae75"
      },
      "execution_count": null,
      "outputs": [
        {
          "output_type": "execute_result",
          "data": {
            "text/plain": [
              "array([[ 0,  0,  0,  0,  2,  3],\n",
              "       [ 0,  0,  0,  2,  3,  1],\n",
              "       [ 0,  0,  2,  3,  1,  4],\n",
              "       [ 0,  2,  3,  1,  4,  5],\n",
              "       [ 0,  0,  0,  0,  6,  1],\n",
              "       [ 0,  0,  0,  6,  1,  7],\n",
              "       [ 0,  0,  0,  0,  8,  1],\n",
              "       [ 0,  0,  0,  8,  1,  9],\n",
              "       [ 0,  0,  8,  1,  9, 10],\n",
              "       [ 0,  8,  1,  9, 10,  1],\n",
              "       [ 8,  1,  9, 10,  1, 11]], dtype=int32)"
            ]
          },
          "metadata": {},
          "execution_count": 6
        }
      ]
    },
    {
      "cell_type": "code",
      "source": [
        "import numpy as np\n",
        "sequences = np.array(sequences)\n",
        "X = sequences[:,:-1] # 문제데이터 앞의 5단어\n",
        "y = sequences[:,-1]  # 정답데이터 뒤의 1단어"
      ],
      "metadata": {
        "id": "8kCTxkb-emzJ"
      },
      "execution_count": null,
      "outputs": []
    },
    {
      "cell_type": "code",
      "source": [
        "# 원핫인코딩\n",
        "from tensorflow.keras.utils import to_categorical\n",
        "\n",
        "y_en = to_categorical(y,num_classes = 12)\n",
        "y_en"
      ],
      "metadata": {
        "colab": {
          "base_uri": "https://localhost:8080/"
        },
        "id": "EY8XJlz8emwh",
        "outputId": "eaf6f3f3-0ca5-441f-f09a-c7ad5bb667e4"
      },
      "execution_count": null,
      "outputs": [
        {
          "output_type": "execute_result",
          "data": {
            "text/plain": [
              "array([[0., 0., 0., 1., 0., 0., 0., 0., 0., 0., 0., 0.],\n",
              "       [0., 1., 0., 0., 0., 0., 0., 0., 0., 0., 0., 0.],\n",
              "       [0., 0., 0., 0., 1., 0., 0., 0., 0., 0., 0., 0.],\n",
              "       [0., 0., 0., 0., 0., 1., 0., 0., 0., 0., 0., 0.],\n",
              "       [0., 1., 0., 0., 0., 0., 0., 0., 0., 0., 0., 0.],\n",
              "       [0., 0., 0., 0., 0., 0., 0., 1., 0., 0., 0., 0.],\n",
              "       [0., 1., 0., 0., 0., 0., 0., 0., 0., 0., 0., 0.],\n",
              "       [0., 0., 0., 0., 0., 0., 0., 0., 0., 1., 0., 0.],\n",
              "       [0., 0., 0., 0., 0., 0., 0., 0., 0., 0., 1., 0.],\n",
              "       [0., 1., 0., 0., 0., 0., 0., 0., 0., 0., 0., 0.],\n",
              "       [0., 0., 0., 0., 0., 0., 0., 0., 0., 0., 0., 1.]], dtype=float32)"
            ]
          },
          "metadata": {},
          "execution_count": 8
        }
      ]
    },
    {
      "cell_type": "code",
      "source": [
        "from tensorflow.keras.layers import Embedding, Dense, SimpleRNN\n",
        "from tensorflow.keras import Sequential\n",
        "\n",
        "model1 = Sequential()\n",
        "\n",
        "model1.add(Embedding(12,10,input_length = 5))\n",
        "model1.add(SimpleRNN(32))\n",
        "model1.add(Dense(units = 12, activation = 'softmax'))\n",
        "\n",
        "model1.compile(\n",
        "    loss = 'categorical_crossentropy',\n",
        "    optimizer = 'adam',\n",
        "    metrics = ['accuracy']\n",
        ")\n",
        "\n",
        "model1.fit(X, y_en, epochs = 200)"
      ],
      "metadata": {
        "colab": {
          "base_uri": "https://localhost:8080/"
        },
        "id": "G4HXfkiYemuB",
        "outputId": "cc5d9479-72bb-44d4-8418-c30b20aa0d4d"
      },
      "execution_count": null,
      "outputs": [
        {
          "output_type": "stream",
          "name": "stdout",
          "text": [
            "Epoch 1/200\n",
            "1/1 [==============================] - 6s 6s/step - loss: 2.4770 - accuracy: 0.0909\n",
            "Epoch 2/200\n",
            "1/1 [==============================] - 0s 15ms/step - loss: 2.4627 - accuracy: 0.1818\n",
            "Epoch 3/200\n",
            "1/1 [==============================] - 0s 16ms/step - loss: 2.4480 - accuracy: 0.3636\n",
            "Epoch 4/200\n",
            "1/1 [==============================] - 0s 15ms/step - loss: 2.4329 - accuracy: 0.2727\n",
            "Epoch 5/200\n",
            "1/1 [==============================] - 0s 16ms/step - loss: 2.4173 - accuracy: 0.3636\n",
            "Epoch 6/200\n",
            "1/1 [==============================] - 0s 15ms/step - loss: 2.4012 - accuracy: 0.3636\n",
            "Epoch 7/200\n",
            "1/1 [==============================] - 0s 14ms/step - loss: 2.3845 - accuracy: 0.3636\n",
            "Epoch 8/200\n",
            "1/1 [==============================] - 0s 14ms/step - loss: 2.3672 - accuracy: 0.4545\n",
            "Epoch 9/200\n",
            "1/1 [==============================] - 0s 15ms/step - loss: 2.3491 - accuracy: 0.3636\n",
            "Epoch 10/200\n",
            "1/1 [==============================] - 0s 15ms/step - loss: 2.3304 - accuracy: 0.3636\n",
            "Epoch 11/200\n",
            "1/1 [==============================] - 0s 13ms/step - loss: 2.3108 - accuracy: 0.3636\n",
            "Epoch 12/200\n",
            "1/1 [==============================] - 0s 14ms/step - loss: 2.2905 - accuracy: 0.3636\n",
            "Epoch 13/200\n",
            "1/1 [==============================] - 0s 15ms/step - loss: 2.2693 - accuracy: 0.3636\n",
            "Epoch 14/200\n",
            "1/1 [==============================] - 0s 15ms/step - loss: 2.2474 - accuracy: 0.3636\n",
            "Epoch 15/200\n",
            "1/1 [==============================] - 0s 15ms/step - loss: 2.2248 - accuracy: 0.3636\n",
            "Epoch 16/200\n",
            "1/1 [==============================] - 0s 15ms/step - loss: 2.2016 - accuracy: 0.3636\n",
            "Epoch 17/200\n",
            "1/1 [==============================] - 0s 18ms/step - loss: 2.1780 - accuracy: 0.3636\n",
            "Epoch 18/200\n",
            "1/1 [==============================] - 0s 23ms/step - loss: 2.1540 - accuracy: 0.3636\n",
            "Epoch 19/200\n",
            "1/1 [==============================] - 0s 18ms/step - loss: 2.1299 - accuracy: 0.3636\n",
            "Epoch 20/200\n",
            "1/1 [==============================] - 0s 21ms/step - loss: 2.1059 - accuracy: 0.3636\n",
            "Epoch 21/200\n",
            "1/1 [==============================] - 0s 24ms/step - loss: 2.0823 - accuracy: 0.3636\n",
            "Epoch 22/200\n",
            "1/1 [==============================] - 0s 18ms/step - loss: 2.0592 - accuracy: 0.3636\n",
            "Epoch 23/200\n",
            "1/1 [==============================] - 0s 20ms/step - loss: 2.0371 - accuracy: 0.3636\n",
            "Epoch 24/200\n",
            "1/1 [==============================] - 0s 18ms/step - loss: 2.0161 - accuracy: 0.3636\n",
            "Epoch 25/200\n",
            "1/1 [==============================] - 0s 21ms/step - loss: 1.9964 - accuracy: 0.3636\n",
            "Epoch 26/200\n",
            "1/1 [==============================] - 0s 19ms/step - loss: 1.9782 - accuracy: 0.3636\n",
            "Epoch 27/200\n",
            "1/1 [==============================] - 0s 21ms/step - loss: 1.9613 - accuracy: 0.3636\n",
            "Epoch 28/200\n",
            "1/1 [==============================] - 0s 22ms/step - loss: 1.9458 - accuracy: 0.3636\n",
            "Epoch 29/200\n",
            "1/1 [==============================] - 0s 20ms/step - loss: 1.9314 - accuracy: 0.3636\n",
            "Epoch 30/200\n",
            "1/1 [==============================] - 0s 20ms/step - loss: 1.9177 - accuracy: 0.3636\n",
            "Epoch 31/200\n",
            "1/1 [==============================] - 0s 26ms/step - loss: 1.9045 - accuracy: 0.3636\n",
            "Epoch 32/200\n",
            "1/1 [==============================] - 0s 22ms/step - loss: 1.8915 - accuracy: 0.3636\n",
            "Epoch 33/200\n",
            "1/1 [==============================] - 0s 22ms/step - loss: 1.8783 - accuracy: 0.3636\n",
            "Epoch 34/200\n",
            "1/1 [==============================] - 0s 18ms/step - loss: 1.8649 - accuracy: 0.3636\n",
            "Epoch 35/200\n",
            "1/1 [==============================] - 0s 21ms/step - loss: 1.8510 - accuracy: 0.3636\n",
            "Epoch 36/200\n",
            "1/1 [==============================] - 0s 20ms/step - loss: 1.8368 - accuracy: 0.3636\n",
            "Epoch 37/200\n",
            "1/1 [==============================] - 0s 19ms/step - loss: 1.8222 - accuracy: 0.3636\n",
            "Epoch 38/200\n",
            "1/1 [==============================] - 0s 24ms/step - loss: 1.8074 - accuracy: 0.3636\n",
            "Epoch 39/200\n",
            "1/1 [==============================] - 0s 22ms/step - loss: 1.7924 - accuracy: 0.3636\n",
            "Epoch 40/200\n",
            "1/1 [==============================] - 0s 20ms/step - loss: 1.7773 - accuracy: 0.3636\n",
            "Epoch 41/200\n",
            "1/1 [==============================] - 0s 29ms/step - loss: 1.7622 - accuracy: 0.3636\n",
            "Epoch 42/200\n",
            "1/1 [==============================] - 0s 26ms/step - loss: 1.7470 - accuracy: 0.3636\n",
            "Epoch 43/200\n",
            "1/1 [==============================] - 0s 22ms/step - loss: 1.7317 - accuracy: 0.3636\n",
            "Epoch 44/200\n",
            "1/1 [==============================] - 0s 17ms/step - loss: 1.7162 - accuracy: 0.3636\n",
            "Epoch 45/200\n",
            "1/1 [==============================] - 0s 21ms/step - loss: 1.7004 - accuracy: 0.3636\n",
            "Epoch 46/200\n",
            "1/1 [==============================] - 0s 25ms/step - loss: 1.6844 - accuracy: 0.3636\n",
            "Epoch 47/200\n",
            "1/1 [==============================] - 0s 28ms/step - loss: 1.6680 - accuracy: 0.4545\n",
            "Epoch 48/200\n",
            "1/1 [==============================] - 0s 21ms/step - loss: 1.6513 - accuracy: 0.4545\n",
            "Epoch 49/200\n",
            "1/1 [==============================] - 0s 17ms/step - loss: 1.6341 - accuracy: 0.4545\n",
            "Epoch 50/200\n",
            "1/1 [==============================] - 0s 19ms/step - loss: 1.6167 - accuracy: 0.4545\n",
            "Epoch 51/200\n",
            "1/1 [==============================] - 0s 16ms/step - loss: 1.5989 - accuracy: 0.4545\n",
            "Epoch 52/200\n",
            "1/1 [==============================] - 0s 20ms/step - loss: 1.5808 - accuracy: 0.4545\n",
            "Epoch 53/200\n",
            "1/1 [==============================] - 0s 20ms/step - loss: 1.5624 - accuracy: 0.4545\n",
            "Epoch 54/200\n",
            "1/1 [==============================] - 0s 21ms/step - loss: 1.5437 - accuracy: 0.4545\n",
            "Epoch 55/200\n",
            "1/1 [==============================] - 0s 22ms/step - loss: 1.5248 - accuracy: 0.5455\n",
            "Epoch 56/200\n",
            "1/1 [==============================] - 0s 24ms/step - loss: 1.5057 - accuracy: 0.5455\n",
            "Epoch 57/200\n",
            "1/1 [==============================] - 0s 20ms/step - loss: 1.4864 - accuracy: 0.5455\n",
            "Epoch 58/200\n",
            "1/1 [==============================] - 0s 20ms/step - loss: 1.4670 - accuracy: 0.5455\n",
            "Epoch 59/200\n",
            "1/1 [==============================] - 0s 19ms/step - loss: 1.4475 - accuracy: 0.5455\n",
            "Epoch 60/200\n",
            "1/1 [==============================] - 0s 20ms/step - loss: 1.4280 - accuracy: 0.5455\n",
            "Epoch 61/200\n",
            "1/1 [==============================] - 0s 20ms/step - loss: 1.4085 - accuracy: 0.5455\n",
            "Epoch 62/200\n",
            "1/1 [==============================] - 0s 25ms/step - loss: 1.3891 - accuracy: 0.5455\n",
            "Epoch 63/200\n",
            "1/1 [==============================] - 0s 22ms/step - loss: 1.3698 - accuracy: 0.5455\n",
            "Epoch 64/200\n",
            "1/1 [==============================] - 0s 20ms/step - loss: 1.3506 - accuracy: 0.5455\n",
            "Epoch 65/200\n",
            "1/1 [==============================] - 0s 19ms/step - loss: 1.3317 - accuracy: 0.5455\n",
            "Epoch 66/200\n",
            "1/1 [==============================] - 0s 18ms/step - loss: 1.3129 - accuracy: 0.5455\n",
            "Epoch 67/200\n",
            "1/1 [==============================] - 0s 19ms/step - loss: 1.2943 - accuracy: 0.5455\n",
            "Epoch 68/200\n",
            "1/1 [==============================] - 0s 19ms/step - loss: 1.2759 - accuracy: 0.5455\n",
            "Epoch 69/200\n",
            "1/1 [==============================] - 0s 21ms/step - loss: 1.2576 - accuracy: 0.5455\n",
            "Epoch 70/200\n",
            "1/1 [==============================] - 0s 21ms/step - loss: 1.2395 - accuracy: 0.5455\n",
            "Epoch 71/200\n",
            "1/1 [==============================] - 0s 22ms/step - loss: 1.2215 - accuracy: 0.5455\n",
            "Epoch 72/200\n",
            "1/1 [==============================] - 0s 19ms/step - loss: 1.2036 - accuracy: 0.5455\n",
            "Epoch 73/200\n",
            "1/1 [==============================] - 0s 20ms/step - loss: 1.1860 - accuracy: 0.5455\n",
            "Epoch 74/200\n",
            "1/1 [==============================] - 0s 19ms/step - loss: 1.1685 - accuracy: 0.5455\n",
            "Epoch 75/200\n",
            "1/1 [==============================] - 0s 18ms/step - loss: 1.1511 - accuracy: 0.5455\n",
            "Epoch 76/200\n",
            "1/1 [==============================] - 0s 16ms/step - loss: 1.1340 - accuracy: 0.5455\n",
            "Epoch 77/200\n",
            "1/1 [==============================] - 0s 19ms/step - loss: 1.1171 - accuracy: 0.5455\n",
            "Epoch 78/200\n",
            "1/1 [==============================] - 0s 19ms/step - loss: 1.1003 - accuracy: 0.5455\n",
            "Epoch 79/200\n",
            "1/1 [==============================] - 0s 20ms/step - loss: 1.0836 - accuracy: 0.6364\n",
            "Epoch 80/200\n",
            "1/1 [==============================] - 0s 19ms/step - loss: 1.0671 - accuracy: 0.6364\n",
            "Epoch 81/200\n",
            "1/1 [==============================] - 0s 19ms/step - loss: 1.0508 - accuracy: 0.6364\n",
            "Epoch 82/200\n",
            "1/1 [==============================] - 0s 19ms/step - loss: 1.0345 - accuracy: 0.6364\n",
            "Epoch 83/200\n",
            "1/1 [==============================] - 0s 20ms/step - loss: 1.0184 - accuracy: 0.6364\n",
            "Epoch 84/200\n",
            "1/1 [==============================] - 0s 21ms/step - loss: 1.0024 - accuracy: 0.6364\n",
            "Epoch 85/200\n",
            "1/1 [==============================] - 0s 20ms/step - loss: 0.9865 - accuracy: 0.6364\n",
            "Epoch 86/200\n",
            "1/1 [==============================] - 0s 20ms/step - loss: 0.9707 - accuracy: 0.6364\n",
            "Epoch 87/200\n",
            "1/1 [==============================] - 0s 19ms/step - loss: 0.9551 - accuracy: 0.8182\n",
            "Epoch 88/200\n",
            "1/1 [==============================] - 0s 19ms/step - loss: 0.9395 - accuracy: 0.8182\n",
            "Epoch 89/200\n",
            "1/1 [==============================] - 0s 20ms/step - loss: 0.9240 - accuracy: 0.8182\n",
            "Epoch 90/200\n",
            "1/1 [==============================] - 0s 20ms/step - loss: 0.9086 - accuracy: 0.8182\n",
            "Epoch 91/200\n",
            "1/1 [==============================] - 0s 22ms/step - loss: 0.8932 - accuracy: 0.8182\n",
            "Epoch 92/200\n",
            "1/1 [==============================] - 0s 25ms/step - loss: 0.8780 - accuracy: 0.8182\n",
            "Epoch 93/200\n",
            "1/1 [==============================] - 0s 20ms/step - loss: 0.8629 - accuracy: 0.8182\n",
            "Epoch 94/200\n",
            "1/1 [==============================] - 0s 18ms/step - loss: 0.8478 - accuracy: 0.8182\n",
            "Epoch 95/200\n",
            "1/1 [==============================] - 0s 23ms/step - loss: 0.8329 - accuracy: 0.8182\n",
            "Epoch 96/200\n",
            "1/1 [==============================] - 0s 22ms/step - loss: 0.8181 - accuracy: 0.8182\n",
            "Epoch 97/200\n",
            "1/1 [==============================] - 0s 26ms/step - loss: 0.8034 - accuracy: 0.8182\n",
            "Epoch 98/200\n",
            "1/1 [==============================] - 0s 28ms/step - loss: 0.7889 - accuracy: 0.8182\n",
            "Epoch 99/200\n",
            "1/1 [==============================] - 0s 18ms/step - loss: 0.7744 - accuracy: 0.8182\n",
            "Epoch 100/200\n",
            "1/1 [==============================] - 0s 19ms/step - loss: 0.7602 - accuracy: 0.8182\n",
            "Epoch 101/200\n",
            "1/1 [==============================] - 0s 21ms/step - loss: 0.7460 - accuracy: 0.8182\n",
            "Epoch 102/200\n",
            "1/1 [==============================] - 0s 19ms/step - loss: 0.7321 - accuracy: 0.8182\n",
            "Epoch 103/200\n",
            "1/1 [==============================] - 0s 23ms/step - loss: 0.7183 - accuracy: 0.8182\n",
            "Epoch 104/200\n",
            "1/1 [==============================] - 0s 29ms/step - loss: 0.7046 - accuracy: 0.8182\n",
            "Epoch 105/200\n",
            "1/1 [==============================] - 0s 21ms/step - loss: 0.6912 - accuracy: 0.8182\n",
            "Epoch 106/200\n",
            "1/1 [==============================] - 0s 23ms/step - loss: 0.6779 - accuracy: 0.9091\n",
            "Epoch 107/200\n",
            "1/1 [==============================] - 0s 17ms/step - loss: 0.6648 - accuracy: 0.9091\n",
            "Epoch 108/200\n",
            "1/1 [==============================] - 0s 16ms/step - loss: 0.6519 - accuracy: 0.9091\n",
            "Epoch 109/200\n",
            "1/1 [==============================] - 0s 25ms/step - loss: 0.6392 - accuracy: 0.9091\n",
            "Epoch 110/200\n",
            "1/1 [==============================] - 0s 17ms/step - loss: 0.6267 - accuracy: 0.9091\n",
            "Epoch 111/200\n",
            "1/1 [==============================] - 0s 21ms/step - loss: 0.6143 - accuracy: 0.9091\n",
            "Epoch 112/200\n",
            "1/1 [==============================] - 0s 17ms/step - loss: 0.6022 - accuracy: 0.9091\n",
            "Epoch 113/200\n",
            "1/1 [==============================] - 0s 18ms/step - loss: 0.5902 - accuracy: 0.9091\n",
            "Epoch 114/200\n",
            "1/1 [==============================] - 0s 21ms/step - loss: 0.5784 - accuracy: 0.9091\n",
            "Epoch 115/200\n",
            "1/1 [==============================] - 0s 21ms/step - loss: 0.5668 - accuracy: 0.9091\n",
            "Epoch 116/200\n",
            "1/1 [==============================] - 0s 19ms/step - loss: 0.5554 - accuracy: 0.9091\n",
            "Epoch 117/200\n",
            "1/1 [==============================] - 0s 24ms/step - loss: 0.5442 - accuracy: 0.9091\n",
            "Epoch 118/200\n",
            "1/1 [==============================] - 0s 25ms/step - loss: 0.5332 - accuracy: 0.9091\n",
            "Epoch 119/200\n",
            "1/1 [==============================] - 0s 15ms/step - loss: 0.5224 - accuracy: 0.9091\n",
            "Epoch 120/200\n",
            "1/1 [==============================] - 0s 25ms/step - loss: 0.5118 - accuracy: 0.9091\n",
            "Epoch 121/200\n",
            "1/1 [==============================] - 0s 28ms/step - loss: 0.5013 - accuracy: 0.9091\n",
            "Epoch 122/200\n",
            "1/1 [==============================] - 0s 22ms/step - loss: 0.4911 - accuracy: 0.9091\n",
            "Epoch 123/200\n",
            "1/1 [==============================] - 0s 17ms/step - loss: 0.4810 - accuracy: 0.9091\n",
            "Epoch 124/200\n",
            "1/1 [==============================] - 0s 23ms/step - loss: 0.4711 - accuracy: 0.9091\n",
            "Epoch 125/200\n",
            "1/1 [==============================] - 0s 16ms/step - loss: 0.4614 - accuracy: 0.9091\n",
            "Epoch 126/200\n",
            "1/1 [==============================] - 0s 18ms/step - loss: 0.4519 - accuracy: 0.9091\n",
            "Epoch 127/200\n",
            "1/1 [==============================] - 0s 18ms/step - loss: 0.4425 - accuracy: 0.9091\n",
            "Epoch 128/200\n",
            "1/1 [==============================] - 0s 21ms/step - loss: 0.4333 - accuracy: 0.9091\n",
            "Epoch 129/200\n",
            "1/1 [==============================] - 0s 19ms/step - loss: 0.4243 - accuracy: 0.9091\n",
            "Epoch 130/200\n",
            "1/1 [==============================] - 0s 20ms/step - loss: 0.4155 - accuracy: 0.9091\n",
            "Epoch 131/200\n",
            "1/1 [==============================] - 0s 18ms/step - loss: 0.4068 - accuracy: 0.9091\n",
            "Epoch 132/200\n",
            "1/1 [==============================] - 0s 21ms/step - loss: 0.3983 - accuracy: 0.9091\n",
            "Epoch 133/200\n",
            "1/1 [==============================] - 0s 17ms/step - loss: 0.3900 - accuracy: 0.9091\n",
            "Epoch 134/200\n",
            "1/1 [==============================] - 0s 17ms/step - loss: 0.3818 - accuracy: 0.9091\n",
            "Epoch 135/200\n",
            "1/1 [==============================] - 0s 24ms/step - loss: 0.3738 - accuracy: 0.9091\n",
            "Epoch 136/200\n",
            "1/1 [==============================] - 0s 26ms/step - loss: 0.3659 - accuracy: 0.9091\n",
            "Epoch 137/200\n",
            "1/1 [==============================] - 0s 25ms/step - loss: 0.3583 - accuracy: 0.9091\n",
            "Epoch 138/200\n",
            "1/1 [==============================] - 0s 28ms/step - loss: 0.3507 - accuracy: 0.9091\n",
            "Epoch 139/200\n",
            "1/1 [==============================] - 0s 21ms/step - loss: 0.3433 - accuracy: 0.9091\n",
            "Epoch 140/200\n",
            "1/1 [==============================] - 0s 22ms/step - loss: 0.3361 - accuracy: 0.9091\n",
            "Epoch 141/200\n",
            "1/1 [==============================] - 0s 20ms/step - loss: 0.3290 - accuracy: 0.9091\n",
            "Epoch 142/200\n",
            "1/1 [==============================] - 0s 20ms/step - loss: 0.3221 - accuracy: 0.9091\n",
            "Epoch 143/200\n",
            "1/1 [==============================] - 0s 19ms/step - loss: 0.3153 - accuracy: 0.9091\n",
            "Epoch 144/200\n",
            "1/1 [==============================] - 0s 20ms/step - loss: 0.3087 - accuracy: 0.9091\n",
            "Epoch 145/200\n",
            "1/1 [==============================] - 0s 25ms/step - loss: 0.3022 - accuracy: 0.9091\n",
            "Epoch 146/200\n",
            "1/1 [==============================] - 0s 19ms/step - loss: 0.2958 - accuracy: 0.9091\n",
            "Epoch 147/200\n",
            "1/1 [==============================] - 0s 20ms/step - loss: 0.2896 - accuracy: 0.9091\n",
            "Epoch 148/200\n",
            "1/1 [==============================] - 0s 23ms/step - loss: 0.2835 - accuracy: 0.9091\n",
            "Epoch 149/200\n",
            "1/1 [==============================] - 0s 24ms/step - loss: 0.2776 - accuracy: 0.9091\n",
            "Epoch 150/200\n",
            "1/1 [==============================] - 0s 19ms/step - loss: 0.2717 - accuracy: 0.9091\n",
            "Epoch 151/200\n",
            "1/1 [==============================] - 0s 19ms/step - loss: 0.2660 - accuracy: 0.9091\n",
            "Epoch 152/200\n",
            "1/1 [==============================] - 0s 23ms/step - loss: 0.2605 - accuracy: 1.0000\n",
            "Epoch 153/200\n",
            "1/1 [==============================] - 0s 15ms/step - loss: 0.2550 - accuracy: 1.0000\n",
            "Epoch 154/200\n",
            "1/1 [==============================] - 0s 17ms/step - loss: 0.2497 - accuracy: 1.0000\n",
            "Epoch 155/200\n",
            "1/1 [==============================] - 0s 19ms/step - loss: 0.2445 - accuracy: 1.0000\n",
            "Epoch 156/200\n",
            "1/1 [==============================] - 0s 21ms/step - loss: 0.2395 - accuracy: 1.0000\n",
            "Epoch 157/200\n",
            "1/1 [==============================] - 0s 24ms/step - loss: 0.2345 - accuracy: 1.0000\n",
            "Epoch 158/200\n",
            "1/1 [==============================] - 0s 28ms/step - loss: 0.2296 - accuracy: 1.0000\n",
            "Epoch 159/200\n",
            "1/1 [==============================] - 0s 18ms/step - loss: 0.2249 - accuracy: 1.0000\n",
            "Epoch 160/200\n",
            "1/1 [==============================] - 0s 28ms/step - loss: 0.2203 - accuracy: 1.0000\n",
            "Epoch 161/200\n",
            "1/1 [==============================] - 0s 23ms/step - loss: 0.2158 - accuracy: 1.0000\n",
            "Epoch 162/200\n",
            "1/1 [==============================] - 0s 23ms/step - loss: 0.2114 - accuracy: 1.0000\n",
            "Epoch 163/200\n",
            "1/1 [==============================] - 0s 16ms/step - loss: 0.2071 - accuracy: 1.0000\n",
            "Epoch 164/200\n",
            "1/1 [==============================] - 0s 18ms/step - loss: 0.2029 - accuracy: 1.0000\n",
            "Epoch 165/200\n",
            "1/1 [==============================] - 0s 17ms/step - loss: 0.1988 - accuracy: 1.0000\n",
            "Epoch 166/200\n",
            "1/1 [==============================] - 0s 15ms/step - loss: 0.1948 - accuracy: 1.0000\n",
            "Epoch 167/200\n",
            "1/1 [==============================] - 0s 16ms/step - loss: 0.1909 - accuracy: 1.0000\n",
            "Epoch 168/200\n",
            "1/1 [==============================] - 0s 15ms/step - loss: 0.1871 - accuracy: 1.0000\n",
            "Epoch 169/200\n",
            "1/1 [==============================] - 0s 16ms/step - loss: 0.1834 - accuracy: 1.0000\n",
            "Epoch 170/200\n",
            "1/1 [==============================] - 0s 15ms/step - loss: 0.1797 - accuracy: 1.0000\n",
            "Epoch 171/200\n",
            "1/1 [==============================] - 0s 18ms/step - loss: 0.1762 - accuracy: 1.0000\n",
            "Epoch 172/200\n",
            "1/1 [==============================] - 0s 16ms/step - loss: 0.1727 - accuracy: 1.0000\n",
            "Epoch 173/200\n",
            "1/1 [==============================] - 0s 16ms/step - loss: 0.1694 - accuracy: 1.0000\n",
            "Epoch 174/200\n",
            "1/1 [==============================] - 0s 17ms/step - loss: 0.1661 - accuracy: 1.0000\n",
            "Epoch 175/200\n",
            "1/1 [==============================] - 0s 19ms/step - loss: 0.1629 - accuracy: 1.0000\n",
            "Epoch 176/200\n",
            "1/1 [==============================] - 0s 16ms/step - loss: 0.1597 - accuracy: 1.0000\n",
            "Epoch 177/200\n",
            "1/1 [==============================] - 0s 16ms/step - loss: 0.1567 - accuracy: 1.0000\n",
            "Epoch 178/200\n",
            "1/1 [==============================] - 0s 16ms/step - loss: 0.1537 - accuracy: 1.0000\n",
            "Epoch 179/200\n",
            "1/1 [==============================] - 0s 17ms/step - loss: 0.1508 - accuracy: 1.0000\n",
            "Epoch 180/200\n",
            "1/1 [==============================] - 0s 13ms/step - loss: 0.1479 - accuracy: 1.0000\n",
            "Epoch 181/200\n",
            "1/1 [==============================] - 0s 19ms/step - loss: 0.1451 - accuracy: 1.0000\n",
            "Epoch 182/200\n",
            "1/1 [==============================] - 0s 21ms/step - loss: 0.1424 - accuracy: 1.0000\n",
            "Epoch 183/200\n",
            "1/1 [==============================] - 0s 18ms/step - loss: 0.1398 - accuracy: 1.0000\n",
            "Epoch 184/200\n",
            "1/1 [==============================] - 0s 20ms/step - loss: 0.1372 - accuracy: 1.0000\n",
            "Epoch 185/200\n",
            "1/1 [==============================] - 0s 19ms/step - loss: 0.1347 - accuracy: 1.0000\n",
            "Epoch 186/200\n",
            "1/1 [==============================] - 0s 14ms/step - loss: 0.1322 - accuracy: 1.0000\n",
            "Epoch 187/200\n",
            "1/1 [==============================] - 0s 16ms/step - loss: 0.1298 - accuracy: 1.0000\n",
            "Epoch 188/200\n",
            "1/1 [==============================] - 0s 19ms/step - loss: 0.1275 - accuracy: 1.0000\n",
            "Epoch 189/200\n",
            "1/1 [==============================] - 0s 18ms/step - loss: 0.1252 - accuracy: 1.0000\n",
            "Epoch 190/200\n",
            "1/1 [==============================] - 0s 16ms/step - loss: 0.1229 - accuracy: 1.0000\n",
            "Epoch 191/200\n",
            "1/1 [==============================] - 0s 21ms/step - loss: 0.1208 - accuracy: 1.0000\n",
            "Epoch 192/200\n",
            "1/1 [==============================] - 0s 16ms/step - loss: 0.1186 - accuracy: 1.0000\n",
            "Epoch 193/200\n",
            "1/1 [==============================] - 0s 19ms/step - loss: 0.1165 - accuracy: 1.0000\n",
            "Epoch 194/200\n",
            "1/1 [==============================] - 0s 17ms/step - loss: 0.1145 - accuracy: 1.0000\n",
            "Epoch 195/200\n",
            "1/1 [==============================] - 0s 18ms/step - loss: 0.1125 - accuracy: 1.0000\n",
            "Epoch 196/200\n",
            "1/1 [==============================] - 0s 19ms/step - loss: 0.1106 - accuracy: 1.0000\n",
            "Epoch 197/200\n",
            "1/1 [==============================] - 0s 20ms/step - loss: 0.1087 - accuracy: 1.0000\n",
            "Epoch 198/200\n",
            "1/1 [==============================] - 0s 19ms/step - loss: 0.1068 - accuracy: 1.0000\n",
            "Epoch 199/200\n",
            "1/1 [==============================] - 0s 19ms/step - loss: 0.1050 - accuracy: 1.0000\n",
            "Epoch 200/200\n",
            "1/1 [==============================] - 0s 19ms/step - loss: 0.1032 - accuracy: 1.0000\n"
          ]
        },
        {
          "output_type": "execute_result",
          "data": {
            "text/plain": [
              "<keras.src.callbacks.History at 0x780f092d5780>"
            ]
          },
          "metadata": {},
          "execution_count": 9
        }
      ]
    },
    {
      "cell_type": "code",
      "source": [
        "# 위에서 학습 시킨 학습 모델 사용해서 텍스트 생성 기능 만들기\n",
        "# 사용할 모델, 토크나이저, 입력 단어, 생성할 단어 수\n",
        "def make_sentence(model, t, current_word, n):\n",
        "  init_word = current_word # 마지막에 같이 출력하기 위함\n",
        "  sentence = ''\n",
        "  for _ in range(n):\n",
        "    encoded = t.texts_to_sequences([current_word])[0]\n",
        "    print(encoded) # 번호 확인\n",
        "    print(current_word) # 입력 단어 확인\n",
        "    # 데이터를 같은 길이(5)로 맞춰주기\n",
        "    encoded = pad_sequences([encoded], maxlen = max_len - 1)\n",
        "    # 입력한 단어로 예측하기\n",
        "    result = model.predict(encoded, verbose = 0).argmax(axis= -1)\n",
        "    for word, index in t.word_index.items():\n",
        "      if index == result:\n",
        "        break\n",
        "\n",
        "    # 현재단어 + \" \" + 예측단어를 현재 단어로 변경\n",
        "    current_word = current_word + \" \" + word\n",
        "\n",
        "    sentence = sentence + \" \" + word\n",
        "  # 문장 생성\n",
        "  sentence = init_word + sentence\n",
        "\n",
        "  return sentence"
      ],
      "metadata": {
        "id": "lNwVqkLmemrp"
      },
      "execution_count": null,
      "outputs": []
    },
    {
      "cell_type": "code",
      "source": [
        "# 인공지능 딥러닝 모델이고, t는 토큰화 모델임, 세번째는 시작 단어, 네번째는 출력해야하는 단어 수\n",
        "# 경마장에 있는 말이 뛰고 있다. 그의 말이 법이다, 가는 말이 고와야 오는 말이 곱다\n",
        "print(make_sentence(model1, t,'경마장에',4))"
      ],
      "metadata": {
        "colab": {
          "base_uri": "https://localhost:8080/"
        },
        "id": "L_9BhEzjitLp",
        "outputId": "bdb6e6af-10b0-4eaf-a689-7aa7cb2adb5d"
      },
      "execution_count": null,
      "outputs": [
        {
          "output_type": "stream",
          "name": "stdout",
          "text": [
            "[2]\n",
            "경마장에\n",
            "[2, 3]\n",
            "경마장에 있는\n",
            "[2, 3, 1]\n",
            "경마장에 있는 말이\n",
            "[2, 3, 1, 4]\n",
            "경마장에 있는 말이 뛰고\n",
            "경마장에 있는 말이 뛰고 있다\n"
          ]
        }
      ]
    },
    {
      "cell_type": "code",
      "source": [],
      "metadata": {
        "id": "qgcc28I2itCa"
      },
      "execution_count": null,
      "outputs": []
    },
    {
      "cell_type": "code",
      "source": [],
      "metadata": {
        "id": "ORHLIIKxis4l"
      },
      "execution_count": null,
      "outputs": []
    },
    {
      "cell_type": "code",
      "source": [],
      "metadata": {
        "id": "mPTWoW0hempM"
      },
      "execution_count": null,
      "outputs": []
    },
    {
      "cell_type": "code",
      "source": [],
      "metadata": {
        "id": "LJW0B-Q7emmR"
      },
      "execution_count": null,
      "outputs": []
    },
    {
      "cell_type": "code",
      "source": [],
      "metadata": {
        "id": "Ev_bBrPLemgE"
      },
      "execution_count": null,
      "outputs": []
    },
    {
      "cell_type": "code",
      "source": [],
      "metadata": {
        "id": "DKkcfCyOemdB"
      },
      "execution_count": null,
      "outputs": []
    }
  ]
}