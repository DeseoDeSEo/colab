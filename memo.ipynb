{
  "nbformat": 4,
  "nbformat_minor": 0,
  "metadata": {
    "colab": {
      "provenance": [],
      "authorship_tag": "ABX9TyPt5gTU7338hUcJK4ryhXH6",
      "include_colab_link": true
    },
    "kernelspec": {
      "name": "python3",
      "display_name": "Python 3"
    },
    "language_info": {
      "name": "python"
    }
  },
  "cells": [
    {
      "cell_type": "markdown",
      "metadata": {
        "id": "view-in-github",
        "colab_type": "text"
      },
      "source": [
        "<a href=\"https://colab.research.google.com/github/DeseoDeSEo/colab/blob/main/memo.ipynb\" target=\"_parent\"><img src=\"https://colab.research.google.com/assets/colab-badge.svg\" alt=\"Open In Colab\"/></a>"
      ]
    },
    {
      "cell_type": "markdown",
      "source": [
        "### 오차역전파\n",
        "- 순전파: 입력 데이터를 입력층에서부터 출력층까지 정방향으로 이동하면서 출력 값을 예측하는 과정(예측, 추론)\n",
        "- 역전파:출력층에서 발생한 에러를 입력층 쪽으로 전파시키면서 최적의 결과를 학습해 나가는 과정(학습)"
      ],
      "metadata": {
        "id": "JeorPGvnlx_E"
      }
    },
    {
      "cell_type": "markdown",
      "source": [
        "#09월 22일\n",
        "## 경사 하강법(Gradient Descent Algorithm)\n",
        "- 비용함수가 최소가 되는 w값(= 기울기가 가장 작을 때)\n",
        "- 전체 데이터를 이용해 업데이트( 오차를 구하는데 시간, 비용 多\n",
        "## 확률적 경사하강법(Stochastic Gradient Descent)\n",
        "- 확률적으로 선택된 일부 데이터를 이용해 업데이트\n",
        "\n",
        "## Batch_size\n",
        "-일반적으로 pc메모리의 한계 및 속도 저하 때문에 대부분 한번의 epoch에 모든 데이터를 한꺼번에 집어넣기 힘듦\n",
        "\n",
        "- batch_size를 줄임\n",
        "  - 메모리 속도가 적음( 저사용 일 경우)\n",
        "  - 학습 속도가 느림, 정확도 up\n",
        "\n",
        "- batch_size를 높임\n",
        "  - 메모리 속도가 큼\n",
        "  - 학습 속도가 큼, 정확도 down\n",
        "### #일반적으로 디폴트 값은 32이며, 일반적으로 32, 64 사용 多\n",
        "\n",
        "\n",
        "-모멘텀(momentum)\n",
        "  - 경사하강법에 관성을 적용해 업데이트! 현재 batch뿐만 아니라 이전 batch데이터의 학습 결과도 반영.\n",
        "\n",
        "  특징: 가중치를 수정하기 전 이전 방향을 참고하여 업데이트\n",
        "  - 지그재그 형태로 이동하는 현상이 줄어듬.\n",
        "-네스테로프 모멘텀(Nesterov Accelrated Momentom)\n",
        "  -기존의 모멘텀 방식으로 먼저 더한 다음 해당 방향으로 이동한다고 가정하고 기울기를 계산해본뒤 실제 업데이트에 반영( 불필요한 이동을 줄일 수 있다.)\n",
        "\n",
        "-에이다 그래드(Adaptive Gradient)\n",
        " - 학습률 감소 방법을 적용해 업데이트 (멀리 있을 때는 보폭이 크게, 가까이 올때는 세부 조정을 통해서 보폭이 작게)\n",
        "➜ 처음에는 크게 학습하다가 조금씩 작게 학습.\n",
        "\n",
        "- 보폭=학습률\n",
        "- 학습을 진행하면서 학습률을 점차 줄여가는 방법.\n",
        "\n",
        "-스텝(= Learning late?!)\n",
        "\n",
        "\n",
        "-Adam(가장 최근에 사용하는 최적화(optimizer))\n",
        "  -\n",
        "\n"
      ],
      "metadata": {
        "id": "gXMVg9CQlzgK"
      }
    },
    {
      "cell_type": "markdown",
      "source": [
        "## 09월 25일 월요일(명훈t)\n",
        "1. MLP(Multi Layer Perceptron) / DNN (Deep Neural Network)\n",
        "  - Dense층을 사용하는 딥러닝 모델\n",
        "\n",
        "## 출력층 Dense\n",
        "ex) model.add(Dense)units, activation, input_dim))\n",
        "- units :퍼셉트론의 개수, 퍼셉트론 = 인간의 뇌를 구분하는 것\n",
        "         이진분류 =1, 다중분류 = 클래스의 개수, 회귀=1\n",
        "- activation : 이진분류 = 'sigmoid' , 다중분류 ='softmax', 회귀 ='linear'\n",
        "#### 이진분류에서 sigmoid를 사용한는 이유\n",
        "- sigmoid는 0~1까지로 결과를 바꿔줌\n",
        "- 해당 결과를 보면 딥러닝모델을 어떤식으로 수정해야하는지 알 수 있음.\n",
        "- 0 또는 1에 가까울 수록 모델이 예측을 잘하고 있음을 알 수 있다.\n",
        "### ○  모델 생성 =  건물 토대를 건설\n",
        "- ex) model=Sequential()\n",
        "### ○  층을 쌓는다\n",
        "###   각층은 다른 디자인을 가질 수 있다.\n",
        "- ex) model.add(Dense(units, activation, input_dim))\n",
        "-  model.add(Dense(units, activation, input_dim))\n",
        "-  model.add(Dense(units, activation, input_dim))\n",
        "-  model.add(Dense(units, activation, input_dim))\n",
        "-  model.add(Dense(units, activation, input_dim))\n",
        "\n",
        "## 학습 방법 설정(이진분류, 다중분류, 회귀)\n",
        "### 건물 외부 디자인\n",
        "model.compile(\n",
        "  ###         이진분류. 다중분류, 회귀 순서\n",
        "  loss:binary_crossentropy, categorical_crossentropy,mean_squared_error\n",
        "  optimizer : Adam(RMSPROP, NADAM)\n",
        "  metrics : ['accuracy'] ,['accuracy'],['mean_squared_error'] mse는 생략 가능\n",
        ")\n"
      ],
      "metadata": {
        "id": "d9gUqdzOl0Ez"
      }
    },
    {
      "cell_type": "markdown",
      "source": [
        "09월 25일 월요일(명훈t)\n",
        "#### dense는 1차원만 학습 가능\n",
        "2. CNN(Convolution Neural Network)\n",
        "##### ○ cnn은 이미지 학습 가능(2차원의 데이터도 학습 가능 )\n",
        "##### ○ 데이터에서 특징을 추출하고 추출된 특증을 기반으로 학습.\n",
        "##### > 이미지의 크기, 방향등에 크게 관여하지 않는다.\n",
        "##### conv layer: 데이터에서 특징을 찾음\n",
        "#### pooling layer: 특징이 아닌 부분을 삭제함.\n",
        "#### conv layer(컨볼루전?) - > pooling layer를 반복함.\n",
        "#### 이후, dense는 찾아진 특징을 토대로 사물을 구분할 규칙을 만듬.\n"
      ],
      "metadata": {
        "id": "oPkem_yQl0NB"
      }
    },
    {
      "cell_type": "code",
      "source": [],
      "metadata": {
        "id": "GSPRBq5el0UI"
      },
      "execution_count": null,
      "outputs": []
    },
    {
      "cell_type": "code",
      "source": [],
      "metadata": {
        "id": "R7DGvesUl0ae"
      },
      "execution_count": null,
      "outputs": []
    },
    {
      "cell_type": "code",
      "source": [],
      "metadata": {
        "id": "kQ1jbwerl0hf"
      },
      "execution_count": null,
      "outputs": []
    },
    {
      "cell_type": "code",
      "source": [],
      "metadata": {
        "id": "7LIVylqql0ow"
      },
      "execution_count": null,
      "outputs": []
    },
    {
      "cell_type": "code",
      "source": [],
      "metadata": {
        "id": "nbEP7Ex6l0wV"
      },
      "execution_count": null,
      "outputs": []
    },
    {
      "cell_type": "code",
      "source": [],
      "metadata": {
        "id": "y2xBVpXTl04P"
      },
      "execution_count": null,
      "outputs": []
    },
    {
      "cell_type": "code",
      "source": [],
      "metadata": {
        "id": "q-ayGa6Ql0_-"
      },
      "execution_count": null,
      "outputs": []
    },
    {
      "cell_type": "code",
      "source": [],
      "metadata": {
        "id": "WdC_WgHjl1IW"
      },
      "execution_count": null,
      "outputs": []
    },
    {
      "cell_type": "code",
      "source": [],
      "metadata": {
        "id": "dD_16H9jl1Py"
      },
      "execution_count": null,
      "outputs": []
    }
  ]
}