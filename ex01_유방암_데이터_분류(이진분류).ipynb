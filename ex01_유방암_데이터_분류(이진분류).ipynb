{
  "nbformat": 4,
  "nbformat_minor": 0,
  "metadata": {
    "colab": {
      "provenance": [],
      "authorship_tag": "ABX9TyOl0CouLqUoWBSrddv1lmon",
      "include_colab_link": true
    },
    "kernelspec": {
      "name": "python3",
      "display_name": "Python 3"
    },
    "language_info": {
      "name": "python"
    }
  },
  "cells": [
    {
      "cell_type": "markdown",
      "metadata": {
        "id": "view-in-github",
        "colab_type": "text"
      },
      "source": [
        "<a href=\"https://colab.research.google.com/github/DeseoDeSEo/colab/blob/main/ex01_%EC%9C%A0%EB%B0%A9%EC%95%94_%EB%8D%B0%EC%9D%B4%ED%84%B0_%EB%B6%84%EB%A5%98(%EC%9D%B4%EC%A7%84%EB%B6%84%EB%A5%98).ipynb\" target=\"_parent\"><img src=\"https://colab.research.google.com/assets/colab-badge.svg\" alt=\"Open In Colab\"/></a>"
      ]
    },
    {
      "cell_type": "markdown",
      "source": [
        "### 목표\n",
        "- 환자 데이터를 바탕으로 유방암인지 아닌지를 구분해보자\n",
        "- 딥러닝으로 이진분류 실습을 진행하자.\n"
      ],
      "metadata": {
        "id": "zJPkJT5V7pdC"
      }
    },
    {
      "cell_type": "code",
      "source": [
        "# 라이브러리 불러오기\n",
        "import numpy as np\n",
        "import pandas as pd\n",
        "import matplotlib.pyplot as plt\n",
        "from sklearn.datasets import load_breast_cancer # 사이킷런 내장 유방암데이터\n"
      ],
      "metadata": {
        "id": "FvxbHrHv7v1z"
      },
      "execution_count": null,
      "outputs": []
    },
    {
      "cell_type": "code",
      "source": [
        "# 데이터 불러오기\n",
        "breast_data =load_breast_cancer()\n",
        "breast_data\n",
        "# 머신러닝 데이터 구조 : 번치객체( 딕셔너리 형태 )"
      ],
      "metadata": {
        "colab": {
          "base_uri": "https://localhost:8080/"
        },
        "id": "GlMYUWBx7wAB",
        "outputId": "e9f877a9-7224-48d9-b9f8-5e78c28aea8e"
      },
      "execution_count": null,
      "outputs": [
        {
          "output_type": "execute_result",
          "data": {
            "text/plain": [
              "{'data': array([[1.799e+01, 1.038e+01, 1.228e+02, ..., 2.654e-01, 4.601e-01,\n",
              "         1.189e-01],\n",
              "        [2.057e+01, 1.777e+01, 1.329e+02, ..., 1.860e-01, 2.750e-01,\n",
              "         8.902e-02],\n",
              "        [1.969e+01, 2.125e+01, 1.300e+02, ..., 2.430e-01, 3.613e-01,\n",
              "         8.758e-02],\n",
              "        ...,\n",
              "        [1.660e+01, 2.808e+01, 1.083e+02, ..., 1.418e-01, 2.218e-01,\n",
              "         7.820e-02],\n",
              "        [2.060e+01, 2.933e+01, 1.401e+02, ..., 2.650e-01, 4.087e-01,\n",
              "         1.240e-01],\n",
              "        [7.760e+00, 2.454e+01, 4.792e+01, ..., 0.000e+00, 2.871e-01,\n",
              "         7.039e-02]]),\n",
              " 'target': array([0, 0, 0, 0, 0, 0, 0, 0, 0, 0, 0, 0, 0, 0, 0, 0, 0, 0, 0, 1, 1, 1,\n",
              "        0, 0, 0, 0, 0, 0, 0, 0, 0, 0, 0, 0, 0, 0, 0, 1, 0, 0, 0, 0, 0, 0,\n",
              "        0, 0, 1, 0, 1, 1, 1, 1, 1, 0, 0, 1, 0, 0, 1, 1, 1, 1, 0, 1, 0, 0,\n",
              "        1, 1, 1, 1, 0, 1, 0, 0, 1, 0, 1, 0, 0, 1, 1, 1, 0, 0, 1, 0, 0, 0,\n",
              "        1, 1, 1, 0, 1, 1, 0, 0, 1, 1, 1, 0, 0, 1, 1, 1, 1, 0, 1, 1, 0, 1,\n",
              "        1, 1, 1, 1, 1, 1, 1, 0, 0, 0, 1, 0, 0, 1, 1, 1, 0, 0, 1, 0, 1, 0,\n",
              "        0, 1, 0, 0, 1, 1, 0, 1, 1, 0, 1, 1, 1, 1, 0, 1, 1, 1, 1, 1, 1, 1,\n",
              "        1, 1, 0, 1, 1, 1, 1, 0, 0, 1, 0, 1, 1, 0, 0, 1, 1, 0, 0, 1, 1, 1,\n",
              "        1, 0, 1, 1, 0, 0, 0, 1, 0, 1, 0, 1, 1, 1, 0, 1, 1, 0, 0, 1, 0, 0,\n",
              "        0, 0, 1, 0, 0, 0, 1, 0, 1, 0, 1, 1, 0, 1, 0, 0, 0, 0, 1, 1, 0, 0,\n",
              "        1, 1, 1, 0, 1, 1, 1, 1, 1, 0, 0, 1, 1, 0, 1, 1, 0, 0, 1, 0, 1, 1,\n",
              "        1, 1, 0, 1, 1, 1, 1, 1, 0, 1, 0, 0, 0, 0, 0, 0, 0, 0, 0, 0, 0, 0,\n",
              "        0, 0, 1, 1, 1, 1, 1, 1, 0, 1, 0, 1, 1, 0, 1, 1, 0, 1, 0, 0, 1, 1,\n",
              "        1, 1, 1, 1, 1, 1, 1, 1, 1, 1, 1, 0, 1, 1, 0, 1, 0, 1, 1, 1, 1, 1,\n",
              "        1, 1, 1, 1, 1, 1, 1, 1, 1, 0, 1, 1, 1, 0, 1, 0, 1, 1, 1, 1, 0, 0,\n",
              "        0, 1, 1, 1, 1, 0, 1, 0, 1, 0, 1, 1, 1, 0, 1, 1, 1, 1, 1, 1, 1, 0,\n",
              "        0, 0, 1, 1, 1, 1, 1, 1, 1, 1, 1, 1, 1, 0, 0, 1, 0, 0, 0, 1, 0, 0,\n",
              "        1, 1, 1, 1, 1, 0, 1, 1, 1, 1, 1, 0, 1, 1, 1, 0, 1, 1, 0, 0, 1, 1,\n",
              "        1, 1, 1, 1, 0, 1, 1, 1, 1, 1, 1, 1, 0, 1, 1, 1, 1, 1, 0, 1, 1, 0,\n",
              "        1, 1, 1, 1, 1, 1, 1, 1, 1, 1, 1, 1, 0, 1, 0, 0, 1, 0, 1, 1, 1, 1,\n",
              "        1, 0, 1, 1, 0, 1, 0, 1, 1, 0, 1, 0, 1, 1, 1, 1, 1, 1, 1, 1, 0, 0,\n",
              "        1, 1, 1, 1, 1, 1, 0, 1, 1, 1, 1, 1, 1, 1, 1, 1, 1, 0, 1, 1, 1, 1,\n",
              "        1, 1, 1, 0, 1, 0, 1, 1, 0, 1, 1, 1, 1, 1, 0, 0, 1, 0, 1, 0, 1, 1,\n",
              "        1, 1, 1, 0, 1, 1, 0, 1, 0, 1, 0, 0, 1, 1, 1, 0, 1, 1, 1, 1, 1, 1,\n",
              "        1, 1, 1, 1, 1, 0, 1, 0, 0, 1, 1, 1, 1, 1, 1, 1, 1, 1, 1, 1, 1, 1,\n",
              "        1, 1, 1, 1, 1, 1, 1, 1, 1, 1, 1, 1, 0, 0, 0, 0, 0, 0, 1]),\n",
              " 'frame': None,\n",
              " 'target_names': array(['malignant', 'benign'], dtype='<U9'),\n",
              " 'DESCR': '.. _breast_cancer_dataset:\\n\\nBreast cancer wisconsin (diagnostic) dataset\\n--------------------------------------------\\n\\n**Data Set Characteristics:**\\n\\n    :Number of Instances: 569\\n\\n    :Number of Attributes: 30 numeric, predictive attributes and the class\\n\\n    :Attribute Information:\\n        - radius (mean of distances from center to points on the perimeter)\\n        - texture (standard deviation of gray-scale values)\\n        - perimeter\\n        - area\\n        - smoothness (local variation in radius lengths)\\n        - compactness (perimeter^2 / area - 1.0)\\n        - concavity (severity of concave portions of the contour)\\n        - concave points (number of concave portions of the contour)\\n        - symmetry\\n        - fractal dimension (\"coastline approximation\" - 1)\\n\\n        The mean, standard error, and \"worst\" or largest (mean of the three\\n        worst/largest values) of these features were computed for each image,\\n        resulting in 30 features.  For instance, field 0 is Mean Radius, field\\n        10 is Radius SE, field 20 is Worst Radius.\\n\\n        - class:\\n                - WDBC-Malignant\\n                - WDBC-Benign\\n\\n    :Summary Statistics:\\n\\n    ===================================== ====== ======\\n                                           Min    Max\\n    ===================================== ====== ======\\n    radius (mean):                        6.981  28.11\\n    texture (mean):                       9.71   39.28\\n    perimeter (mean):                     43.79  188.5\\n    area (mean):                          143.5  2501.0\\n    smoothness (mean):                    0.053  0.163\\n    compactness (mean):                   0.019  0.345\\n    concavity (mean):                     0.0    0.427\\n    concave points (mean):                0.0    0.201\\n    symmetry (mean):                      0.106  0.304\\n    fractal dimension (mean):             0.05   0.097\\n    radius (standard error):              0.112  2.873\\n    texture (standard error):             0.36   4.885\\n    perimeter (standard error):           0.757  21.98\\n    area (standard error):                6.802  542.2\\n    smoothness (standard error):          0.002  0.031\\n    compactness (standard error):         0.002  0.135\\n    concavity (standard error):           0.0    0.396\\n    concave points (standard error):      0.0    0.053\\n    symmetry (standard error):            0.008  0.079\\n    fractal dimension (standard error):   0.001  0.03\\n    radius (worst):                       7.93   36.04\\n    texture (worst):                      12.02  49.54\\n    perimeter (worst):                    50.41  251.2\\n    area (worst):                         185.2  4254.0\\n    smoothness (worst):                   0.071  0.223\\n    compactness (worst):                  0.027  1.058\\n    concavity (worst):                    0.0    1.252\\n    concave points (worst):               0.0    0.291\\n    symmetry (worst):                     0.156  0.664\\n    fractal dimension (worst):            0.055  0.208\\n    ===================================== ====== ======\\n\\n    :Missing Attribute Values: None\\n\\n    :Class Distribution: 212 - Malignant, 357 - Benign\\n\\n    :Creator:  Dr. William H. Wolberg, W. Nick Street, Olvi L. Mangasarian\\n\\n    :Donor: Nick Street\\n\\n    :Date: November, 1995\\n\\nThis is a copy of UCI ML Breast Cancer Wisconsin (Diagnostic) datasets.\\nhttps://goo.gl/U2Uwz2\\n\\nFeatures are computed from a digitized image of a fine needle\\naspirate (FNA) of a breast mass.  They describe\\ncharacteristics of the cell nuclei present in the image.\\n\\nSeparating plane described above was obtained using\\nMultisurface Method-Tree (MSM-T) [K. P. Bennett, \"Decision Tree\\nConstruction Via Linear Programming.\" Proceedings of the 4th\\nMidwest Artificial Intelligence and Cognitive Science Society,\\npp. 97-101, 1992], a classification method which uses linear\\nprogramming to construct a decision tree.  Relevant features\\nwere selected using an exhaustive search in the space of 1-4\\nfeatures and 1-3 separating planes.\\n\\nThe actual linear program used to obtain the separating plane\\nin the 3-dimensional space is that described in:\\n[K. P. Bennett and O. L. Mangasarian: \"Robust Linear\\nProgramming Discrimination of Two Linearly Inseparable Sets\",\\nOptimization Methods and Software 1, 1992, 23-34].\\n\\nThis database is also available through the UW CS ftp server:\\n\\nftp ftp.cs.wisc.edu\\ncd math-prog/cpo-dataset/machine-learn/WDBC/\\n\\n.. topic:: References\\n\\n   - W.N. Street, W.H. Wolberg and O.L. Mangasarian. Nuclear feature extraction \\n     for breast tumor diagnosis. IS&T/SPIE 1993 International Symposium on \\n     Electronic Imaging: Science and Technology, volume 1905, pages 861-870,\\n     San Jose, CA, 1993.\\n   - O.L. Mangasarian, W.N. Street and W.H. Wolberg. Breast cancer diagnosis and \\n     prognosis via linear programming. Operations Research, 43(4), pages 570-577, \\n     July-August 1995.\\n   - W.H. Wolberg, W.N. Street, and O.L. Mangasarian. Machine learning techniques\\n     to diagnose breast cancer from fine-needle aspirates. Cancer Letters 77 (1994) \\n     163-171.',\n",
              " 'feature_names': array(['mean radius', 'mean texture', 'mean perimeter', 'mean area',\n",
              "        'mean smoothness', 'mean compactness', 'mean concavity',\n",
              "        'mean concave points', 'mean symmetry', 'mean fractal dimension',\n",
              "        'radius error', 'texture error', 'perimeter error', 'area error',\n",
              "        'smoothness error', 'compactness error', 'concavity error',\n",
              "        'concave points error', 'symmetry error',\n",
              "        'fractal dimension error', 'worst radius', 'worst texture',\n",
              "        'worst perimeter', 'worst area', 'worst smoothness',\n",
              "        'worst compactness', 'worst concavity', 'worst concave points',\n",
              "        'worst symmetry', 'worst fractal dimension'], dtype='<U23'),\n",
              " 'filename': 'breast_cancer.csv',\n",
              " 'data_module': 'sklearn.datasets.data'}"
            ]
          },
          "metadata": {},
          "execution_count": 3
        }
      ]
    },
    {
      "cell_type": "code",
      "source": [
        "breast_data.keys()\n",
        "# data: 문제 데이터, 입력특성\n",
        "# target: 정답데이터\n",
        "# target_names: 정답데이터의 이름"
      ],
      "metadata": {
        "colab": {
          "base_uri": "https://localhost:8080/"
        },
        "id": "niCszxV47wJS",
        "outputId": "0e7d877e-586f-4fdd-e9ed-3868665cec76"
      },
      "execution_count": null,
      "outputs": [
        {
          "output_type": "execute_result",
          "data": {
            "text/plain": [
              "dict_keys(['data', 'target', 'frame', 'target_names', 'DESCR', 'feature_names', 'filename', 'data_module'])"
            ]
          },
          "metadata": {},
          "execution_count": 4
        }
      ]
    },
    {
      "cell_type": "code",
      "source": [
        "breast_data.target_names\n",
        "# 0 ➜ 'malignant(악성)'\n",
        "# 1 ➜ 'benign'(양성)\n",
        "#class의 개수는 2개 ➜ 이진 분류 !"
      ],
      "metadata": {
        "colab": {
          "base_uri": "https://localhost:8080/"
        },
        "id": "tDCQryZW7wSR",
        "outputId": "ae8a8f0e-a7ef-4bfd-f657-bdbcfe9c4e97"
      },
      "execution_count": null,
      "outputs": [
        {
          "output_type": "execute_result",
          "data": {
            "text/plain": [
              "array(['malignant', 'benign'], dtype='<U9')"
            ]
          },
          "metadata": {},
          "execution_count": 6
        }
      ]
    },
    {
      "cell_type": "code",
      "source": [
        "# 문제, 정답 분리\n",
        "# 문제 데이터는 x에, 정답 데이터는 y에\n",
        "X = breast_data['data']\n",
        "y = breast_data['target']"
      ],
      "metadata": {
        "id": "KiBUYdKQ7waR"
      },
      "execution_count": null,
      "outputs": []
    },
    {
      "cell_type": "code",
      "source": [
        "# train, test로 분리\n",
        "from sklearn.model_selection import train_test_split\n",
        "X_train,X_test,y_train, y_test = train_test_split(X,y,test_size=0.2,random_state=919)"
      ],
      "metadata": {
        "id": "WTmpnvjV7win"
      },
      "execution_count": null,
      "outputs": []
    },
    {
      "cell_type": "code",
      "source": [
        "print(X_train.shape, y_train.shape)\n",
        "print(X_test.shape, y_test.shape)\n",
        "# 입력 특성( 컬럼의 개수)는 30개"
      ],
      "metadata": {
        "colab": {
          "base_uri": "https://localhost:8080/"
        },
        "id": "Ol3rKWkY7wrJ",
        "outputId": "32ce7895-73cd-4421-c0d4-b87a7417e044"
      },
      "execution_count": null,
      "outputs": [
        {
          "output_type": "stream",
          "name": "stdout",
          "text": [
            "(455, 30) (455,)\n",
            "(114, 30) (114,)\n"
          ]
        }
      ]
    },
    {
      "cell_type": "markdown",
      "source": [
        "# < 모델링 과정 >\n",
        "## 1. 신경망 구조 설계( 뼈대, 입력층, 중간층, 출력층 )\n",
        "## 2. 신경망 모델 학습/평가 방법 설정 (회귀, 분류)\n",
        "## 3. 모델 학습\n",
        "## 4. 모델 예측 및 평가"
      ],
      "metadata": {
        "id": "NDmBahAj7wzo"
      }
    },
    {
      "cell_type": "code",
      "source": [
        "from tensorflow.keras.models import Sequential # 뼈대\n",
        "\n",
        "from tensorflow.keras.layers import InputLayer, Dense"
      ],
      "metadata": {
        "id": "fXY6MKvXEA4L"
      },
      "execution_count": null,
      "outputs": []
    },
    {
      "cell_type": "code",
      "source": [
        "# 1. 신경망 구조 설계( 뼈대, 입력층, 중간층, 출력층 )\n",
        "# 뼈대\n",
        "model = Sequential()\n",
        "# 입력층\n",
        "model.add(InputLayer(input_shape=(30,))) # 입력층( 입력 특성의 개수를 정확하게 작성해야함.)\n",
        "# 중간층(은닉층)\n",
        "model.add(Dense(units=16, activation='sigmoid'))\n",
        "model.add(Dense(units=8, activation='sigmoid'))\n",
        "# 출력층 (출력받고 싶은 데이터 형태를 지정하는 곳임.) , 이진분류 1개의 확률값으로 결과값으로 받고 싶음.\n",
        "# 분류는 확률적인 값을 출력.\n",
        "# 다중분류는 직선이 여러개 필요함.\n",
        "model.add(Dense(units=1,activation='sigmoid'))\n",
        "# sigmoid의 역할은 중간층에서는 역치의 역할? 출력층에서는 이진분류 1개의 확률값으로 결과값으로 변환시켜줌.\n",
        "# sigmoid함수는 0에서 1사이의 함수이며, 값이 들어오면 0~1사이의 값을 반환함..\n",
        "# sigmoid : S자형 곡선을 가지는 함수로 0~1사이의 값을 반환 !\n",
        "# 선형모델의 결과값: 연속형 값 !\n"
      ],
      "metadata": {
        "id": "EKxk8wf-7w8H"
      },
      "execution_count": null,
      "outputs": []
    },
    {
      "cell_type": "markdown",
      "source": [
        "### * 활성화함수는 중간층, 출력층에서 사용됨,\n",
        "#### 중간층 : 역치 역활( 활성화, 비활성화할지?)\n",
        "#### step function ➜ sigmoid사용.(왜? 최적화 알고리즘 경사하강법을 적용하기 위해서 기울기와 역치 개념을 가지는 sigmoid를 사용하기 위해서)\n",
        "\n",
        "#### 출력층 : 최종결과의 데이터 형태를 결정\n",
        "#### (내가 출력하고자 하는 형태에 따라 다르게 작성, units/activation)"
      ],
      "metadata": {
        "id": "OgxVel687xEY"
      }
    },
    {
      "cell_type": "code",
      "source": [
        "# 2.모델학습 및 평가방법 결정\n",
        "model.compile(loss='binary_crossentropy',  # 오차: 이진분류➜ binary_crossentropy\n",
        "              optimizer='SGD', # 최적화 알고리즘(확률적 경사하강법)\n",
        "              metrics=['accuracy']) # metrics : 평가방법( 분류: 정확도)"
      ],
      "metadata": {
        "id": "UpJmIMqe7xMP"
      },
      "execution_count": null,
      "outputs": []
    },
    {
      "cell_type": "code",
      "source": [
        "# 3.모델 학습 및 시각화\n",
        "h1=model.fit(X_train, y_train,validation_split=0.2, epochs=100)"
      ],
      "metadata": {
        "colab": {
          "base_uri": "https://localhost:8080/"
        },
        "id": "qr0nICn97xVo",
        "outputId": "78208084-3451-4491-d5a6-cf870b3e42a1"
      },
      "execution_count": null,
      "outputs": [
        {
          "output_type": "stream",
          "name": "stdout",
          "text": [
            "Epoch 1/100\n",
            "12/12 [==============================] - 0s 9ms/step - loss: 0.6505 - accuracy: 0.6456 - val_loss: 0.6820 - val_accuracy: 0.5934\n",
            "Epoch 2/100\n",
            "12/12 [==============================] - 0s 6ms/step - loss: 0.6506 - accuracy: 0.6456 - val_loss: 0.6821 - val_accuracy: 0.5934\n",
            "Epoch 3/100\n",
            "12/12 [==============================] - 0s 7ms/step - loss: 0.6505 - accuracy: 0.6456 - val_loss: 0.6823 - val_accuracy: 0.5934\n",
            "Epoch 4/100\n",
            "12/12 [==============================] - 0s 6ms/step - loss: 0.6506 - accuracy: 0.6456 - val_loss: 0.6827 - val_accuracy: 0.5934\n",
            "Epoch 5/100\n",
            "12/12 [==============================] - 0s 5ms/step - loss: 0.6505 - accuracy: 0.6456 - val_loss: 0.6828 - val_accuracy: 0.5934\n",
            "Epoch 6/100\n",
            "12/12 [==============================] - 0s 7ms/step - loss: 0.6504 - accuracy: 0.6456 - val_loss: 0.6829 - val_accuracy: 0.5934\n",
            "Epoch 7/100\n",
            "12/12 [==============================] - 0s 8ms/step - loss: 0.6505 - accuracy: 0.6456 - val_loss: 0.6830 - val_accuracy: 0.5934\n",
            "Epoch 8/100\n",
            "12/12 [==============================] - 0s 7ms/step - loss: 0.6507 - accuracy: 0.6456 - val_loss: 0.6826 - val_accuracy: 0.5934\n",
            "Epoch 9/100\n",
            "12/12 [==============================] - 0s 5ms/step - loss: 0.6506 - accuracy: 0.6456 - val_loss: 0.6826 - val_accuracy: 0.5934\n",
            "Epoch 10/100\n",
            "12/12 [==============================] - 0s 6ms/step - loss: 0.6505 - accuracy: 0.6456 - val_loss: 0.6830 - val_accuracy: 0.5934\n",
            "Epoch 11/100\n",
            "12/12 [==============================] - 0s 6ms/step - loss: 0.6507 - accuracy: 0.6456 - val_loss: 0.6822 - val_accuracy: 0.5934\n",
            "Epoch 12/100\n",
            "12/12 [==============================] - 0s 5ms/step - loss: 0.6504 - accuracy: 0.6456 - val_loss: 0.6822 - val_accuracy: 0.5934\n",
            "Epoch 13/100\n",
            "12/12 [==============================] - 0s 5ms/step - loss: 0.6505 - accuracy: 0.6456 - val_loss: 0.6819 - val_accuracy: 0.5934\n",
            "Epoch 14/100\n",
            "12/12 [==============================] - 0s 5ms/step - loss: 0.6505 - accuracy: 0.6456 - val_loss: 0.6816 - val_accuracy: 0.5934\n",
            "Epoch 15/100\n",
            "12/12 [==============================] - 0s 5ms/step - loss: 0.6503 - accuracy: 0.6456 - val_loss: 0.6817 - val_accuracy: 0.5934\n",
            "Epoch 16/100\n",
            "12/12 [==============================] - 0s 5ms/step - loss: 0.6502 - accuracy: 0.6456 - val_loss: 0.6819 - val_accuracy: 0.5934\n",
            "Epoch 17/100\n",
            "12/12 [==============================] - 0s 7ms/step - loss: 0.6504 - accuracy: 0.6456 - val_loss: 0.6815 - val_accuracy: 0.5934\n",
            "Epoch 18/100\n",
            "12/12 [==============================] - 0s 7ms/step - loss: 0.6504 - accuracy: 0.6456 - val_loss: 0.6817 - val_accuracy: 0.5934\n",
            "Epoch 19/100\n",
            "12/12 [==============================] - 0s 8ms/step - loss: 0.6503 - accuracy: 0.6456 - val_loss: 0.6813 - val_accuracy: 0.5934\n",
            "Epoch 20/100\n",
            "12/12 [==============================] - 0s 8ms/step - loss: 0.6503 - accuracy: 0.6456 - val_loss: 0.6815 - val_accuracy: 0.5934\n",
            "Epoch 21/100\n",
            "12/12 [==============================] - 0s 6ms/step - loss: 0.6503 - accuracy: 0.6456 - val_loss: 0.6816 - val_accuracy: 0.5934\n",
            "Epoch 22/100\n",
            "12/12 [==============================] - 0s 5ms/step - loss: 0.6503 - accuracy: 0.6456 - val_loss: 0.6817 - val_accuracy: 0.5934\n",
            "Epoch 23/100\n",
            "12/12 [==============================] - 0s 7ms/step - loss: 0.6503 - accuracy: 0.6456 - val_loss: 0.6817 - val_accuracy: 0.5934\n",
            "Epoch 24/100\n",
            "12/12 [==============================] - 0s 5ms/step - loss: 0.6504 - accuracy: 0.6456 - val_loss: 0.6815 - val_accuracy: 0.5934\n",
            "Epoch 25/100\n",
            "12/12 [==============================] - 0s 7ms/step - loss: 0.6504 - accuracy: 0.6456 - val_loss: 0.6813 - val_accuracy: 0.5934\n",
            "Epoch 26/100\n",
            "12/12 [==============================] - 0s 6ms/step - loss: 0.6504 - accuracy: 0.6456 - val_loss: 0.6812 - val_accuracy: 0.5934\n",
            "Epoch 27/100\n",
            "12/12 [==============================] - 0s 7ms/step - loss: 0.6503 - accuracy: 0.6456 - val_loss: 0.6815 - val_accuracy: 0.5934\n",
            "Epoch 28/100\n",
            "12/12 [==============================] - 0s 7ms/step - loss: 0.6503 - accuracy: 0.6456 - val_loss: 0.6812 - val_accuracy: 0.5934\n",
            "Epoch 29/100\n",
            "12/12 [==============================] - 0s 7ms/step - loss: 0.6503 - accuracy: 0.6456 - val_loss: 0.6814 - val_accuracy: 0.5934\n",
            "Epoch 30/100\n",
            "12/12 [==============================] - 0s 6ms/step - loss: 0.6503 - accuracy: 0.6456 - val_loss: 0.6813 - val_accuracy: 0.5934\n",
            "Epoch 31/100\n",
            "12/12 [==============================] - 0s 6ms/step - loss: 0.6503 - accuracy: 0.6456 - val_loss: 0.6813 - val_accuracy: 0.5934\n",
            "Epoch 32/100\n",
            "12/12 [==============================] - 0s 6ms/step - loss: 0.6503 - accuracy: 0.6456 - val_loss: 0.6811 - val_accuracy: 0.5934\n",
            "Epoch 33/100\n",
            "12/12 [==============================] - 0s 5ms/step - loss: 0.6505 - accuracy: 0.6456 - val_loss: 0.6813 - val_accuracy: 0.5934\n",
            "Epoch 34/100\n",
            "12/12 [==============================] - 0s 5ms/step - loss: 0.6504 - accuracy: 0.6456 - val_loss: 0.6811 - val_accuracy: 0.5934\n",
            "Epoch 35/100\n",
            "12/12 [==============================] - 0s 5ms/step - loss: 0.6503 - accuracy: 0.6456 - val_loss: 0.6815 - val_accuracy: 0.5934\n",
            "Epoch 36/100\n",
            "12/12 [==============================] - 0s 6ms/step - loss: 0.6503 - accuracy: 0.6456 - val_loss: 0.6820 - val_accuracy: 0.5934\n",
            "Epoch 37/100\n",
            "12/12 [==============================] - 0s 5ms/step - loss: 0.6504 - accuracy: 0.6456 - val_loss: 0.6816 - val_accuracy: 0.5934\n",
            "Epoch 38/100\n",
            "12/12 [==============================] - 0s 7ms/step - loss: 0.6503 - accuracy: 0.6456 - val_loss: 0.6822 - val_accuracy: 0.5934\n",
            "Epoch 39/100\n",
            "12/12 [==============================] - 0s 6ms/step - loss: 0.6502 - accuracy: 0.6456 - val_loss: 0.6821 - val_accuracy: 0.5934\n",
            "Epoch 40/100\n",
            "12/12 [==============================] - 0s 6ms/step - loss: 0.6503 - accuracy: 0.6456 - val_loss: 0.6815 - val_accuracy: 0.5934\n",
            "Epoch 41/100\n",
            "12/12 [==============================] - 0s 7ms/step - loss: 0.6504 - accuracy: 0.6456 - val_loss: 0.6815 - val_accuracy: 0.5934\n",
            "Epoch 42/100\n",
            "12/12 [==============================] - 0s 7ms/step - loss: 0.6503 - accuracy: 0.6456 - val_loss: 0.6816 - val_accuracy: 0.5934\n",
            "Epoch 43/100\n",
            "12/12 [==============================] - 0s 5ms/step - loss: 0.6504 - accuracy: 0.6456 - val_loss: 0.6813 - val_accuracy: 0.5934\n",
            "Epoch 44/100\n",
            "12/12 [==============================] - 0s 5ms/step - loss: 0.6503 - accuracy: 0.6456 - val_loss: 0.6812 - val_accuracy: 0.5934\n",
            "Epoch 45/100\n",
            "12/12 [==============================] - 0s 6ms/step - loss: 0.6502 - accuracy: 0.6456 - val_loss: 0.6813 - val_accuracy: 0.5934\n",
            "Epoch 46/100\n",
            "12/12 [==============================] - 0s 8ms/step - loss: 0.6503 - accuracy: 0.6456 - val_loss: 0.6812 - val_accuracy: 0.5934\n",
            "Epoch 47/100\n",
            "12/12 [==============================] - 0s 9ms/step - loss: 0.6502 - accuracy: 0.6456 - val_loss: 0.6811 - val_accuracy: 0.5934\n",
            "Epoch 48/100\n",
            "12/12 [==============================] - 0s 7ms/step - loss: 0.6503 - accuracy: 0.6456 - val_loss: 0.6815 - val_accuracy: 0.5934\n",
            "Epoch 49/100\n",
            "12/12 [==============================] - 0s 5ms/step - loss: 0.6505 - accuracy: 0.6456 - val_loss: 0.6816 - val_accuracy: 0.5934\n",
            "Epoch 50/100\n",
            "12/12 [==============================] - 0s 8ms/step - loss: 0.6505 - accuracy: 0.6456 - val_loss: 0.6815 - val_accuracy: 0.5934\n",
            "Epoch 51/100\n",
            "12/12 [==============================] - 0s 11ms/step - loss: 0.6503 - accuracy: 0.6456 - val_loss: 0.6814 - val_accuracy: 0.5934\n",
            "Epoch 52/100\n",
            "12/12 [==============================] - 0s 22ms/step - loss: 0.6502 - accuracy: 0.6456 - val_loss: 0.6817 - val_accuracy: 0.5934\n",
            "Epoch 53/100\n",
            "12/12 [==============================] - 0s 13ms/step - loss: 0.6503 - accuracy: 0.6456 - val_loss: 0.6820 - val_accuracy: 0.5934\n",
            "Epoch 54/100\n",
            "12/12 [==============================] - 0s 6ms/step - loss: 0.6503 - accuracy: 0.6456 - val_loss: 0.6823 - val_accuracy: 0.5934\n",
            "Epoch 55/100\n",
            "12/12 [==============================] - 0s 6ms/step - loss: 0.6504 - accuracy: 0.6456 - val_loss: 0.6825 - val_accuracy: 0.5934\n",
            "Epoch 56/100\n",
            "12/12 [==============================] - 0s 6ms/step - loss: 0.6503 - accuracy: 0.6456 - val_loss: 0.6824 - val_accuracy: 0.5934\n",
            "Epoch 57/100\n",
            "12/12 [==============================] - 0s 8ms/step - loss: 0.6502 - accuracy: 0.6456 - val_loss: 0.6820 - val_accuracy: 0.5934\n",
            "Epoch 58/100\n",
            "12/12 [==============================] - 0s 22ms/step - loss: 0.6503 - accuracy: 0.6456 - val_loss: 0.6821 - val_accuracy: 0.5934\n",
            "Epoch 59/100\n",
            "12/12 [==============================] - 0s 14ms/step - loss: 0.6503 - accuracy: 0.6456 - val_loss: 0.6818 - val_accuracy: 0.5934\n",
            "Epoch 60/100\n",
            "12/12 [==============================] - 0s 11ms/step - loss: 0.6503 - accuracy: 0.6456 - val_loss: 0.6813 - val_accuracy: 0.5934\n",
            "Epoch 61/100\n",
            "12/12 [==============================] - 0s 8ms/step - loss: 0.6504 - accuracy: 0.6456 - val_loss: 0.6814 - val_accuracy: 0.5934\n",
            "Epoch 62/100\n",
            "12/12 [==============================] - 0s 7ms/step - loss: 0.6503 - accuracy: 0.6456 - val_loss: 0.6813 - val_accuracy: 0.5934\n",
            "Epoch 63/100\n",
            "12/12 [==============================] - 0s 6ms/step - loss: 0.6504 - accuracy: 0.6456 - val_loss: 0.6814 - val_accuracy: 0.5934\n",
            "Epoch 64/100\n",
            "12/12 [==============================] - 0s 6ms/step - loss: 0.6503 - accuracy: 0.6456 - val_loss: 0.6815 - val_accuracy: 0.5934\n",
            "Epoch 65/100\n",
            "12/12 [==============================] - 0s 11ms/step - loss: 0.6503 - accuracy: 0.6456 - val_loss: 0.6814 - val_accuracy: 0.5934\n",
            "Epoch 66/100\n",
            "12/12 [==============================] - 0s 8ms/step - loss: 0.6503 - accuracy: 0.6456 - val_loss: 0.6815 - val_accuracy: 0.5934\n",
            "Epoch 67/100\n",
            "12/12 [==============================] - 0s 10ms/step - loss: 0.6503 - accuracy: 0.6456 - val_loss: 0.6815 - val_accuracy: 0.5934\n",
            "Epoch 68/100\n",
            "12/12 [==============================] - 0s 21ms/step - loss: 0.6502 - accuracy: 0.6456 - val_loss: 0.6814 - val_accuracy: 0.5934\n",
            "Epoch 69/100\n",
            "12/12 [==============================] - 0s 27ms/step - loss: 0.6503 - accuracy: 0.6456 - val_loss: 0.6812 - val_accuracy: 0.5934\n",
            "Epoch 70/100\n",
            "12/12 [==============================] - 0s 27ms/step - loss: 0.6503 - accuracy: 0.6456 - val_loss: 0.6814 - val_accuracy: 0.5934\n",
            "Epoch 71/100\n",
            "12/12 [==============================] - 0s 32ms/step - loss: 0.6502 - accuracy: 0.6456 - val_loss: 0.6813 - val_accuracy: 0.5934\n",
            "Epoch 72/100\n",
            "12/12 [==============================] - 0s 22ms/step - loss: 0.6503 - accuracy: 0.6456 - val_loss: 0.6809 - val_accuracy: 0.5934\n",
            "Epoch 73/100\n",
            "12/12 [==============================] - 0s 23ms/step - loss: 0.6503 - accuracy: 0.6456 - val_loss: 0.6810 - val_accuracy: 0.5934\n",
            "Epoch 74/100\n",
            "12/12 [==============================] - 0s 16ms/step - loss: 0.6502 - accuracy: 0.6456 - val_loss: 0.6810 - val_accuracy: 0.5934\n",
            "Epoch 75/100\n",
            "12/12 [==============================] - 0s 15ms/step - loss: 0.6503 - accuracy: 0.6456 - val_loss: 0.6811 - val_accuracy: 0.5934\n",
            "Epoch 76/100\n",
            "12/12 [==============================] - 0s 21ms/step - loss: 0.6503 - accuracy: 0.6456 - val_loss: 0.6810 - val_accuracy: 0.5934\n",
            "Epoch 77/100\n",
            "12/12 [==============================] - 0s 21ms/step - loss: 0.6503 - accuracy: 0.6456 - val_loss: 0.6807 - val_accuracy: 0.5934\n",
            "Epoch 78/100\n",
            "12/12 [==============================] - 0s 22ms/step - loss: 0.6504 - accuracy: 0.6456 - val_loss: 0.6806 - val_accuracy: 0.5934\n",
            "Epoch 79/100\n",
            "12/12 [==============================] - 0s 28ms/step - loss: 0.6502 - accuracy: 0.6456 - val_loss: 0.6807 - val_accuracy: 0.5934\n",
            "Epoch 80/100\n",
            "12/12 [==============================] - 0s 24ms/step - loss: 0.6503 - accuracy: 0.6456 - val_loss: 0.6811 - val_accuracy: 0.5934\n",
            "Epoch 81/100\n",
            "12/12 [==============================] - 0s 20ms/step - loss: 0.6502 - accuracy: 0.6456 - val_loss: 0.6813 - val_accuracy: 0.5934\n",
            "Epoch 82/100\n",
            "12/12 [==============================] - 0s 28ms/step - loss: 0.6502 - accuracy: 0.6456 - val_loss: 0.6816 - val_accuracy: 0.5934\n",
            "Epoch 83/100\n",
            "12/12 [==============================] - 0s 24ms/step - loss: 0.6501 - accuracy: 0.6456 - val_loss: 0.6819 - val_accuracy: 0.5934\n",
            "Epoch 84/100\n",
            "12/12 [==============================] - 0s 22ms/step - loss: 0.6501 - accuracy: 0.6456 - val_loss: 0.6820 - val_accuracy: 0.5934\n",
            "Epoch 85/100\n",
            "12/12 [==============================] - 0s 19ms/step - loss: 0.6502 - accuracy: 0.6456 - val_loss: 0.6819 - val_accuracy: 0.5934\n",
            "Epoch 86/100\n",
            "12/12 [==============================] - 0s 17ms/step - loss: 0.6502 - accuracy: 0.6456 - val_loss: 0.6816 - val_accuracy: 0.5934\n",
            "Epoch 87/100\n",
            "12/12 [==============================] - 0s 13ms/step - loss: 0.6501 - accuracy: 0.6456 - val_loss: 0.6815 - val_accuracy: 0.5934\n",
            "Epoch 88/100\n",
            "12/12 [==============================] - 0s 12ms/step - loss: 0.6503 - accuracy: 0.6456 - val_loss: 0.6815 - val_accuracy: 0.5934\n",
            "Epoch 89/100\n",
            "12/12 [==============================] - 0s 9ms/step - loss: 0.6501 - accuracy: 0.6456 - val_loss: 0.6815 - val_accuracy: 0.5934\n",
            "Epoch 90/100\n",
            "12/12 [==============================] - 0s 15ms/step - loss: 0.6501 - accuracy: 0.6456 - val_loss: 0.6815 - val_accuracy: 0.5934\n",
            "Epoch 91/100\n",
            "12/12 [==============================] - 0s 19ms/step - loss: 0.6502 - accuracy: 0.6456 - val_loss: 0.6812 - val_accuracy: 0.5934\n",
            "Epoch 92/100\n",
            "12/12 [==============================] - 0s 13ms/step - loss: 0.6501 - accuracy: 0.6456 - val_loss: 0.6811 - val_accuracy: 0.5934\n",
            "Epoch 93/100\n",
            "12/12 [==============================] - 0s 10ms/step - loss: 0.6502 - accuracy: 0.6456 - val_loss: 0.6812 - val_accuracy: 0.5934\n",
            "Epoch 94/100\n",
            "12/12 [==============================] - 0s 20ms/step - loss: 0.6501 - accuracy: 0.6456 - val_loss: 0.6812 - val_accuracy: 0.5934\n",
            "Epoch 95/100\n",
            "12/12 [==============================] - 0s 15ms/step - loss: 0.6502 - accuracy: 0.6456 - val_loss: 0.6809 - val_accuracy: 0.5934\n",
            "Epoch 96/100\n",
            "12/12 [==============================] - 0s 17ms/step - loss: 0.6501 - accuracy: 0.6456 - val_loss: 0.6809 - val_accuracy: 0.5934\n",
            "Epoch 97/100\n",
            "12/12 [==============================] - 0s 10ms/step - loss: 0.6501 - accuracy: 0.6456 - val_loss: 0.6811 - val_accuracy: 0.5934\n",
            "Epoch 98/100\n",
            "12/12 [==============================] - 0s 20ms/step - loss: 0.6501 - accuracy: 0.6456 - val_loss: 0.6818 - val_accuracy: 0.5934\n",
            "Epoch 99/100\n",
            "12/12 [==============================] - 0s 13ms/step - loss: 0.6500 - accuracy: 0.6456 - val_loss: 0.6818 - val_accuracy: 0.5934\n",
            "Epoch 100/100\n",
            "12/12 [==============================] - 0s 12ms/step - loss: 0.6501 - accuracy: 0.6456 - val_loss: 0.6815 - val_accuracy: 0.5934\n"
          ]
        }
      ]
    },
    {
      "cell_type": "code",
      "source": [
        "plt.figure(figsize=(15,5))\n",
        "plt.plot(h1.history['loss'],label='train_loss')\n",
        "plt.plot(h1.history['val_loss'], label='val_loss')\n",
        "plt.legend()\n",
        "plt.show()"
      ],
      "metadata": {
        "colab": {
          "base_uri": "https://localhost:8080/",
          "height": 445
        },
        "id": "y1E9qhHb7xeq",
        "outputId": "d4073b11-df10-4ce2-f287-f8dee9b8c013"
      },
      "execution_count": null,
      "outputs": [
        {
          "output_type": "display_data",
          "data": {
            "text/plain": [
              "<Figure size 1500x500 with 1 Axes>"
            ],
            "image/png": "[encoded data removed]"
          },
          "metadata": {}
        }
      ]
    },
    {
      "cell_type": "code",
      "source": [
        "# 모델에 대한 전체적인 내부 구조 확인\n",
        "model.summary()\n"
      ],
      "metadata": {
        "colab": {
          "base_uri": "https://localhost:8080/"
        },
        "id": "0d5MeXGk7xoG",
        "outputId": "903aeea2-7623-4d00-804e-a48b980a90b8"
      },
      "execution_count": null,
      "outputs": [
        {
          "output_type": "stream",
          "name": "stdout",
          "text": [
            "Model: \"sequential\"\n",
            "_________________________________________________________________\n",
            " Layer (type)                Output Shape              Param #   \n",
            "=================================================================\n",
            " dense (Dense)               (None, 16)                496       \n",
            "                                                                 \n",
            " dense_1 (Dense)             (None, 8)                 136       \n",
            "                                                                 \n",
            " dense_2 (Dense)             (None, 1)                 9         \n",
            "                                                                 \n",
            "=================================================================\n",
            "Total params: 641 (2.50 KB)\n",
            "Trainable params: 641 (2.50 KB)\n",
            "Non-trainable params: 0 (0.00 Byte)\n",
            "_________________________________________________________________\n"
          ]
        }
      ]
    },
    {
      "cell_type": "markdown",
      "source": [
        "# 회귀모델은 성적을 예측, 분류 모델은 ~~? 이니? 아니니?\n",
        "## 연속형데이터는 회귀 ,\n",
        "### [출력형태에 따른 unit의 개수 ]\n",
        "#### - 회귀: units  = 1\n",
        "###- 이진분류 : units = 1\n",
        "\n",
        "### [출력 형태에 따른 활성화함수의 종류 ]\n",
        "#### - 회귀: linear() ➜ 항등함수, y=x의 선형 모델을 사용. 선형모델이 예측한 데이터를 그대로 출력. 기본값이라서 적어주지 않ㅎ아도 괜찮다.\n",
        "#### -이진분류 : sigmoid ➜ 0~1사이의 확률값으로 출력 받기 위함."
      ],
      "metadata": {
        "id": "1UIRua_s7xwq"
      }
    },
    {
      "cell_type": "code",
      "source": [],
      "metadata": {
        "id": "hcQdk_tT7x45"
      },
      "execution_count": null,
      "outputs": []
    },
    {
      "cell_type": "code",
      "source": [],
      "metadata": {
        "id": "QlzFTP777yB4"
      },
      "execution_count": null,
      "outputs": []
    },
    {
      "cell_type": "code",
      "source": [],
      "metadata": {
        "id": "SYGZZ9Ky7yKf"
      },
      "execution_count": null,
      "outputs": []
    },
    {
      "cell_type": "code",
      "source": [],
      "metadata": {
        "id": "-GUmTG0Q7yS_"
      },
      "execution_count": null,
      "outputs": []
    }
  ]
}